{
 "cells": [
  {
   "cell_type": "code",
   "execution_count": 1,
   "metadata": {},
   "outputs": [],
   "source": [
    "import pandas as pd\n",
    "import numpy as np\n",
    "import matplotlib.pyplot as plt\n",
    "import seaborn as sns\n",
    "%matplotlib inline\n",
    "from collections import defaultdict\n",
    "import re"
   ]
  },
  {
   "cell_type": "code",
   "execution_count": 2,
   "metadata": {},
   "outputs": [],
   "source": [
    "df1 = pd.read_csv(\"C:\\\\Users\\\\u6067583\\\\Downloads\\\\Project\\\\naukriscrapdata.csv\")"
   ]
  },
  {
   "cell_type": "code",
   "execution_count": 3,
   "metadata": {},
   "outputs": [],
   "source": [
    "df1.drop(['Unnamed: 0'],inplace = True,axis = 1) \n",
    "df1.drop_duplicates(inplace=True) \n"
   ]
  },
  {
   "cell_type": "code",
   "execution_count": 4,
   "metadata": {},
   "outputs": [],
   "source": [
    "#data consists of job openings related to techsupport/BPO/Helpdesk and similar unwanted roles which are not required here\n",
    "Search_for_These_values = ['Help Desk','Helpdesk','tech support','BPO','Testing'] \n",
    "pattern = '|'.join(Search_for_These_values)\n",
    "result = df1[~df1[\"skills\"].str.contains(pattern)]"
   ]
  },
  {
   "cell_type": "code",
   "execution_count": 5,
   "metadata": {},
   "outputs": [],
   "source": [
    "#picking up location for EDA\n",
    "result['locations'].value_counts()[:20]\n",
    "uniq_locs = set()\n",
    "for loc in result['locations']:\n",
    "    uniq_locs = uniq_locs.union(set(loc.split(',')))\n",
    "    \n",
    "uniq_locs = set([item.strip() for item in uniq_locs])\n",
    "\n",
    "locations_str = '|'.join(result['locations']) # All locations into a single string for pattern matchings \n",
    "loc_dict = defaultdict(int)\n",
    "for loc in uniq_locs:\n",
    "    loc_dict[loc] = len(re.findall(loc, locations_str))"
   ]
  },
  {
   "cell_type": "code",
   "execution_count": 6,
   "metadata": {},
   "outputs": [
    {
     "name": "stdout",
     "output_type": "stream",
     "text": [
      "Bengaluru                     1877\n",
      "Mumbai                         611\n",
      "Hyderabad                      603\n",
      "Pune                           498\n",
      "Chennai                        355\n",
      "                              ... \n",
      "Mumbai(Worli)                    0\n",
      "Hyderabad(Nanakramguda +1)       0\n",
      "Chennai(Navalur)                 0\n",
      "Mumbai(Mumbai Central)           0\n",
      "Chennai(Chromepet)               0\n",
      "Length: 245, dtype: int64\n"
     ]
    }
   ],
   "source": [
    "# Take the most frequent job locations\n",
    "jobs_by_loc = pd.Series(loc_dict).sort_values(ascending = False)\n",
    "print(jobs_by_loc)\n",
    "\n",
    "jobs_by_loc['Mumbai_MH'] = jobs_by_loc['Mumbai'] + jobs_by_loc['Navi Mumbai'] + jobs_by_loc['Nagpur'] + jobs_by_loc['Mumbai Suburbs'] + jobs_by_loc['Thane'] + jobs_by_loc['Vasai'] + jobs_by_loc['Nasik']\n",
    "jobs_by_loc['Bengaluru_KA'] = jobs_by_loc['Bengaluru'] + jobs_by_loc['Bengaluru / Bangalore']  + jobs_by_loc['Mysore'] + jobs_by_loc['Bangalore']\n",
    "jobs_by_loc['Delhi NCR'] = jobs_by_loc['Delhi NCR'] + jobs_by_loc['Delhi'] + jobs_by_loc['Noida'] + jobs_by_loc['Gurgaon'] + jobs_by_loc['Gurgaon Gurugram'] + jobs_by_loc['Greater Noida'] + jobs_by_loc['Delhi/NCR Delhi NCR']\n",
    "jobs_by_loc['Trivandrum_KL'] = jobs_by_loc['Trivandrum'] + jobs_by_loc['Kochi'] + jobs_by_loc['Kozhikode']\n",
    "jobs_by_loc['Hyderabad_AP'] = jobs_by_loc['Hyderabad'] + jobs_by_loc['telangana'] + jobs_by_loc['Visakhapatnam'] + jobs_by_loc['Vijayawada']\n",
    "jobs_by_loc['Ahmedabad_GJ'] = jobs_by_loc['Ahmedabad'] + jobs_by_loc['Vadodara'] + jobs_by_loc['Allahabad'] + jobs_by_loc['Gandhinagar']\n",
    "jobs_by_loc['Kolkata_WB'] = jobs_by_loc['Kolkata'] \n",
    "jobs_by_loc['Chennai_TN'] = jobs_by_loc['Chennai'] + jobs_by_loc['Coimbatore'] \n",
    "jobs_by_loc['Pune_MH'] = jobs_by_loc['Pune']\n",
    "jobs_by_loc.drop(['Delhi','Pune','Noida','Gurgaon','Gurgaon Gurugram','Coimbatore','Chennai','Kolkata','Ahmedabad','Vadodara','Allahabad','Gandhinagar','Vijayawada','Visakhapatnam','telangana','Hyderabad','Trivandrum','Kochi','Kozhikode','Greater Noida','Delhi/NCR Delhi NCR','Bengaluru','Bengaluru / Bangalore','Mysore','Bangalore','Mumbai','Navi Mumbai','Nagpur','Mumbai Suburbs','Thane','Vasai','Nasik'], inplace=True)\n",
    "jobs_by_loc['PANIndia'] = sum(jobs_by_loc)-(jobs_by_loc['Pune_MH'] + jobs_by_loc['Chennai_TN'] + jobs_by_loc['Kolkata_WB'] + jobs_by_loc['Ahmedabad_GJ'] + jobs_by_loc['Hyderabad_AP'] + jobs_by_loc['Trivandrum_KL'] + jobs_by_loc['Delhi NCR'] + jobs_by_loc['Bengaluru_KA'] + jobs_by_loc['Mumbai_MH'] )\n",
    "\n",
    "jobs = pd.DataFrame (jobs_by_loc)\n",
    "df5 = pd.DataFrame(data=jobs.index, columns=['Location'])\n",
    "df6 = pd.DataFrame(data=jobs.values, columns=['jobcount'])\n",
    "df7 = pd.merge(df5, df6, left_index=True, right_index=True)\n",
    "df7.drop(df7.index[1:213],axis=0,inplace=True)"
   ]
  },
  {
   "cell_type": "code",
   "execution_count": 7,
   "metadata": {},
   "outputs": [
    {
     "data": {
      "image/png": "[encoded data removed]",
      "text/plain": [
       "<Figure size 432x288 with 1 Axes>"
      ]
     },
     "metadata": {},
     "output_type": "display_data"
    }
   ],
   "source": [
    "#plotting the locations\n",
    "import seaborn as sns\n",
    "import matplotlib.pyplot as plt\n",
    "%matplotlib inline\n",
    "sns.set_style(\"darkgrid\")\n",
    "\n",
    "bar_plot = sns.barplot(y=df7.Location,x=df7.jobcount,\n",
    "                        palette=\"muted\",orient = 'h')                        \n",
    "plt.title(\"Machine Learning Jobs by Location\")\n",
    "plt.show()"
   ]
  },
  {
   "cell_type": "code",
   "execution_count": 8,
   "metadata": {},
   "outputs": [
    {
     "data": {
      "text/html": [
       "<div>\n",
       "<style scoped>\n",
       "    .dataframe tbody tr th:only-of-type {\n",
       "        vertical-align: middle;\n",
       "    }\n",
       "\n",
       "    .dataframe tbody tr th {\n",
       "        vertical-align: top;\n",
       "    }\n",
       "\n",
       "    .dataframe thead th {\n",
       "        text-align: right;\n",
       "    }\n",
       "</style>\n",
       "<table border=\"1\" class=\"dataframe\">\n",
       "  <thead>\n",
       "    <tr style=\"text-align: right;\">\n",
       "      <th></th>\n",
       "      <th>roles</th>\n",
       "      <th>Openings</th>\n",
       "    </tr>\n",
       "  </thead>\n",
       "  <tbody>\n",
       "    <tr>\n",
       "      <th>0</th>\n",
       "      <td>Data Scientist</td>\n",
       "      <td>287</td>\n",
       "    </tr>\n",
       "    <tr>\n",
       "      <th>1</th>\n",
       "      <td>Data Analyst</td>\n",
       "      <td>217</td>\n",
       "    </tr>\n",
       "    <tr>\n",
       "      <th>2</th>\n",
       "      <td>Data Engineer</td>\n",
       "      <td>157</td>\n",
       "    </tr>\n",
       "    <tr>\n",
       "      <th>3</th>\n",
       "      <td>Senior Data Scientist</td>\n",
       "      <td>93</td>\n",
       "    </tr>\n",
       "    <tr>\n",
       "      <th>4</th>\n",
       "      <td>Business Analyst</td>\n",
       "      <td>64</td>\n",
       "    </tr>\n",
       "  </tbody>\n",
       "</table>\n",
       "</div>"
      ],
      "text/plain": [
       "                   roles  Openings\n",
       "0         Data Scientist       287\n",
       "1           Data Analyst       217\n",
       "2          Data Engineer       157\n",
       "3  Senior Data Scientist        93\n",
       "4       Business Analyst        64"
      ]
     },
     "execution_count": 8,
     "metadata": {},
     "output_type": "execute_result"
    }
   ],
   "source": [
    "##checking for roles\n",
    "result['roles'].value_counts ()[:50]\n",
    "roledf=pd.DataFrame(result.roles.apply(pd.Series).stack().value_counts()).reset_index()\n",
    "roledf.columns=[\"roles\",\"Openings\"]\n",
    "roledf.head()"
   ]
  },
  {
   "cell_type": "code",
   "execution_count": 9,
   "metadata": {},
   "outputs": [
    {
     "data": {
      "image/png": "[encoded data removed]",
      "text/plain": [
       "<Figure size 432x288 with 1 Axes>"
      ]
     },
     "metadata": {},
     "output_type": "display_data"
    }
   ],
   "source": [
    "datascience={}\n",
    "datascience['Data Scientist']=roledf[\"Openings\"][roledf['roles'].str.contains('Data Scien', regex=True)].sum()\n",
    "datascience['Data Analyst']=roledf[\"Openings\"][roledf['roles'].str.contains('Data Analy', regex=True)].sum()\n",
    "datascience['Business Analyst']=roledf[\"Openings\"][roledf['roles'].str.contains('Business', regex=True)].sum()\n",
    "datascience['Big Data Engineer']=roledf[\"Openings\"][roledf['roles'].str.contains('Big', regex=True)].sum()\n",
    "datascience['Data Engineer']=roledf[\"Openings\"][roledf['roles'].str.contains('Data Engineer', regex=True)].sum()\n",
    "datascience['Software engineer']=roledf[\"Openings\"][roledf['roles'].str.contains('Software', regex=True)].sum()\n",
    "datascience['Manager']=roledf[\"Openings\"][roledf['roles'].str.contains('Manager', regex=True)].sum()\n",
    "from operator import itemgetter\n",
    "datascience=dict(sorted(datascience.items(), key=itemgetter(1),reverse=True))\n",
    "datascience\n",
    "datascience = pd.Series(datascience)\n",
    "bar_plot = sns.barplot(y=datascience.index,x=datascience.values,\n",
    "                        palette=\"muted\",orient = 'h')                                  \n",
    "plt.title(\"Trending roles\")\n",
    "plt.show()"
   ]
  },
  {
   "cell_type": "code",
   "execution_count": 10,
   "metadata": {},
   "outputs": [
    {
     "name": "stderr",
     "output_type": "stream",
     "text": [
      "C:\\Users\\u6067583\\Anaconda3\\lib\\site-packages\\ipykernel_launcher.py:2: SettingWithCopyWarning: \n",
      "A value is trying to be set on a copy of a slice from a DataFrame.\n",
      "Try using .loc[row_indexer,col_indexer] = value instead\n",
      "\n",
      "See the caveats in the documentation: https://pandas.pydata.org/pandas-docs/stable/user_guide/indexing.html#returning-a-view-versus-a-copy\n",
      "  \n",
      "C:\\Users\\u6067583\\Anaconda3\\lib\\site-packages\\ipykernel_launcher.py:3: SettingWithCopyWarning: \n",
      "A value is trying to be set on a copy of a slice from a DataFrame.\n",
      "Try using .loc[row_indexer,col_indexer] = value instead\n",
      "\n",
      "See the caveats in the documentation: https://pandas.pydata.org/pandas-docs/stable/user_guide/indexing.html#returning-a-view-versus-a-copy\n",
      "  This is separate from the ipykernel package so we can avoid doing imports until\n"
     ]
    },
    {
     "data": {
      "text/plain": [
       "<matplotlib.axes._subplots.AxesSubplot at 0x1f334227b08>"
      ]
     },
     "execution_count": 10,
     "metadata": {},
     "output_type": "execute_result"
    },
    {
     "data": {
      "image/png": "[encoded data removed]",
      "text/plain": [
       "<Figure size 432x288 with 1 Axes>"
      ]
     },
     "metadata": {},
     "output_type": "display_data"
    }
   ],
   "source": [
    "#Checking for experience\n",
    "result['experience'] = result['experience'].str.replace('Yrs','', regex=True)\n",
    "result['experience'] = result['experience'].str.replace('None','0-0', regex=True)\n",
    "\n",
    "#Splitting range in two columns\n",
    "result=result.join(result['experience'].str.split('-', 1, expand=True).rename(columns={0:'min_exp', 1:'max_exp'}))\n",
    "result['min_exp'] =result['min_exp'].astype('float64')\n",
    "result['max_exp'] =result['max_exp'].apply(pd.to_numeric)\n",
    "col = result.loc[: , \"min_exp\":\"max_exp\"]\n",
    "result['avg_exp']=col.mean(axis=1)\n",
    "\n",
    "exp_counts = result['avg_exp'].value_counts()\n",
    "exp_counts.plot.bar(x='index', y='avg_exp')\n"
   ]
  },
  {
   "cell_type": "code",
   "execution_count": 11,
   "metadata": {},
   "outputs": [],
   "source": [
    "result['salary'] = result['salary'].str.replace('PA.','', regex=True)\n",
    "result['salary'] = result['salary'].str.replace(',','', regex=True)\n",
    "result['salary'] = result['salary'].str.replace('1 Cr and above ','10000000', regex=True)\n",
    "result['salary'] = result['salary'].str.replace('more than ','', regex=True)"
   ]
  },
  {
   "cell_type": "code",
   "execution_count": null,
   "metadata": {},
   "outputs": [],
   "source": []
  }
 ],
 "metadata": {
  "kernelspec": {
   "display_name": "Python 3",
   "language": "python",
   "name": "python3"
  },
  "language_info": {
   "codemirror_mode": {
    "name": "ipython",
    "version": 3
   },
   "file_extension": ".py",
   "mimetype": "text/x-python",
   "name": "python",
   "nbconvert_exporter": "python",
   "pygments_lexer": "ipython3",
   "version": "3.7.6"
  }
 },
 "nbformat": 4,
 "nbformat_minor": 4
}
